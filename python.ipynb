{
  "nbformat": 4,
  "nbformat_minor": 0,
  "metadata": {
    "colab": {
      "provenance": [],
      "include_colab_link": true
    },
    "kernelspec": {
      "name": "python3",
      "display_name": "Python 3"
    },
    "language_info": {
      "name": "python"
    }
  },
  "cells": [
    {
      "cell_type": "markdown",
      "metadata": {
        "id": "view-in-github",
        "colab_type": "text"
      },
      "source": [
        "<a href=\"https://colab.research.google.com/github/shairinSD/366_lab01/blob/main/python.ipynb\" target=\"_parent\"><img src=\"https://colab.research.google.com/assets/colab-badge.svg\" alt=\"Open In Colab\"/></a>"
      ]
    },
    {
      "cell_type": "markdown",
      "source": [
        "# **Python**\n",
        "**List of Topics**\n",
        "\n",
        "---\n",
        "\n",
        "\n",
        "1. Python Variable\n",
        "2. Python Type Conversion\n",
        "3. Python Input Output\n",
        "4. Arithmetic Operators in Python\n",
        "5. Comparison Operators\n",
        "6. Logical Operators\n",
        "7. Python if…else Statement\n",
        "8. Python if…elif…else Statement\n",
        "9. Python Nested if Statements\n",
        "10. Python for Loop\n",
        "11. Python Nested for Loop\n",
        "12. Python Mathematics\n",
        "13. Python List\n",
        "14. Python Tuple\n",
        "15. List Tuple Conversion\n",
        "16. Python String\n",
        "17. Python Set\n",
        "18. Python Dictionary\n",
        "19. Python Function"
      ],
      "metadata": {
        "id": "oOQ2sQH1NZVR"
      }
    },
    {
      "cell_type": "markdown",
      "source": [
        "**Python Variables**"
      ],
      "metadata": {
        "id": "gAnAcJwKNk_c"
      }
    },
    {
      "cell_type": "code",
      "execution_count": 1,
      "metadata": {
        "id": "rPYAII42L_Qe",
        "colab": {
          "base_uri": "https://localhost:8080/"
        },
        "outputId": "db2b7eca-a5a9-47cd-ed8e-07e8f4778d1f"
      },
      "outputs": [
        {
          "output_type": "stream",
          "name": "stdout",
          "text": [
            "Name: John\n",
            "Age: 30\n",
            "Height: 6.1\n",
            "Is Student: False\n"
          ]
        }
      ],
      "source": [
        "# Variable Declaration and Assignment\n",
        "name = \"John\"\n",
        "age = 30\n",
        "height = 6.1\n",
        "is_student = False\n",
        "\n",
        "# Outputting variable values\n",
        "print(\"Name:\", name)\n",
        "print(\"Age:\", age)\n",
        "print(\"Height:\", height)\n",
        "print(\"Is Student:\", is_student)"
      ]
    },
    {
      "cell_type": "code",
      "source": [
        "# Variable Reassignment\n",
        "name = \"Alice\"\n",
        "age = 25\n",
        "\n",
        "# Updated Output\n",
        "print(\"Updated Name:\", name)\n",
        "print(\"\\nUpdated Age:\", age)"
      ],
      "metadata": {
        "id": "KvSSTcTtSQ3t"
      },
      "execution_count": null,
      "outputs": []
    },
    {
      "cell_type": "code",
      "source": [
        "# Variable Types\n",
        "print(\"Variable Types:\")\n",
        "print(\"Type of name:\", type(name))\n",
        "print(\"Type of age:\", type(age))\n",
        "print(\"Type of height:\", type(height))\n",
        "print(\"Type of is_student:\", type(is_student))"
      ],
      "metadata": {
        "id": "PHC9wBYTNTgW"
      },
      "execution_count": null,
      "outputs": []
    },
    {
      "cell_type": "code",
      "source": [
        "# Variable Operations\n",
        "a = 10\n",
        "b = 5\n",
        "sum_result = a + b\n",
        "difference_result = a - b\n",
        "product_result = a * b\n",
        "division_result = a / b\n",
        "\n",
        "# Outputting Results\n",
        "print(\"Operations:\")\n",
        "print(\"Sum:\", sum_result)\n",
        "print(\"Difference:\", difference_result)\n",
        "print(\"Product:\", product_result)\n",
        "print(\"Division:\", division_result)"
      ],
      "metadata": {
        "id": "6qoQwazqNV2x"
      },
      "execution_count": null,
      "outputs": []
    },
    {
      "cell_type": "markdown",
      "source": [
        "**Python Type Conversion**"
      ],
      "metadata": {
        "id": "N9jvAaa7Ns1V"
      }
    },
    {
      "cell_type": "code",
      "source": [
        "num_string = '12'\n",
        "num_integer = 23\n",
        "\n",
        "print(\"Data type of num_string before Type Casting:\",type(num_string))\n",
        "\n",
        "num_string = int(num_string)\n",
        "\n",
        "print(\"Data type of num_string after Type Casting:\",type(num_string))\n",
        "\n",
        "num_sum = num_integer + num_string\n",
        "\n",
        "print(\"Sum:\",num_sum)\n",
        "print(\"Data type of num_sum:\",type(num_sum))"
      ],
      "metadata": {
        "id": "-o9PzSRyN28D"
      },
      "execution_count": null,
      "outputs": []
    },
    {
      "cell_type": "code",
      "source": [
        "num1 = int(2.3)\n",
        "print(num1)\n",
        "\n",
        "num2 = int(-2.8)\n",
        "print(num2)\n",
        "\n",
        "num3 = float(5)\n",
        "print(num3)\n",
        "\n",
        "num4 = complex('3+5j')\n",
        "print(num4)"
      ],
      "metadata": {
        "id": "YF_-cmPCV4Ux"
      },
      "execution_count": null,
      "outputs": []
    },
    {
      "cell_type": "markdown",
      "source": [
        "**Python Input and Output**"
      ],
      "metadata": {
        "id": "dHEWwl9QN86r"
      }
    },
    {
      "cell_type": "code",
      "source": [
        "# Input\n",
        "name = input(\"Enter your name: \")\n",
        "age = int(input(\"Enter your age: \"))\n",
        "\n",
        "year_of_birth = 2024 - age\n",
        "\n",
        "# Output\n",
        "print(\"Hello, \" + name + \"!\")\n",
        "print(\"You are\", age, \"years old.\")\n",
        "print(\"You were born in the year\", year_of_birth)"
      ],
      "metadata": {
        "id": "TYaFRCgzOeXb",
        "colab": {
          "base_uri": "https://localhost:8080/"
        },
        "outputId": "f4e82364-7d48-442e-b4b6-7d691ab5fa01"
      },
      "execution_count": 2,
      "outputs": [
        {
          "output_type": "stream",
          "name": "stdout",
          "text": [
            "Enter your name: Shairin\n",
            "Enter your age: 23\n",
            "Hello, Shairin!\n",
            "You are 23 years old.\n",
            "You were born in the year 2001\n"
          ]
        }
      ]
    },
    {
      "cell_type": "markdown",
      "source": [
        "**Arithmetic Operators in Python**"
      ],
      "metadata": {
        "id": "CtK35lFiOmqQ"
      }
    },
    {
      "cell_type": "code",
      "source": [
        "a = 7\n",
        "b = 2\n",
        "\n",
        "# addition\n",
        "print ('Sum: ', a + b)\n",
        "\n",
        "# subtraction\n",
        "print ('Subtraction: ', a - b)\n",
        "\n",
        "# multiplication\n",
        "print ('Multiplication: ', a * b)\n",
        "\n",
        "# division\n",
        "print ('Division: ', a / b)\n",
        "\n",
        "# floor division\n",
        "print ('Floor Division: ', a // b)\n",
        "\n",
        "# modulo\n",
        "print ('Modulo: ', a % b)\n",
        "\n",
        "# a to the power b\n",
        "print ('Power: ', a ** b)\n",
        "\n",
        "# assignment operator\n",
        "a += b      # a = a + b\n",
        "print (a)"
      ],
      "metadata": {
        "id": "TDnyIgi1PBX6",
        "colab": {
          "base_uri": "https://localhost:8080/"
        },
        "outputId": "7b48e8f7-84e2-4afa-f3ab-815fd4a12649"
      },
      "execution_count": 3,
      "outputs": [
        {
          "output_type": "stream",
          "name": "stdout",
          "text": [
            "Sum:  9\n",
            "Subtraction:  5\n",
            "Multiplication:  14\n",
            "Division:  3.5\n",
            "Floor Division:  3\n",
            "Modulo:  1\n",
            "Power:  49\n",
            "9\n"
          ]
        }
      ]
    },
    {
      "cell_type": "markdown",
      "source": [
        "**Comparison Operators**"
      ],
      "metadata": {
        "id": "6Mn6bkr3PF7B"
      }
    },
    {
      "cell_type": "code",
      "source": [
        "a = 5\n",
        "b = 2\n",
        "\n",
        "# equal to operator\n",
        "print('(a == b)--> ', a == b)\n",
        "\n",
        "# not equal to operator\n",
        "print('(a != b)--> ', a != b)\n",
        "\n",
        "# greater than operator\n",
        "print('(a > b)--> ', a > b)\n",
        "\n",
        "# less than operator\n",
        "print('(a < b)--> ', a < b)\n",
        "\n",
        "# greater than or equal to operator\n",
        "print('(a >= b)--> ', a >= b)\n",
        "\n",
        "# less than or equal to operator\n",
        "print('(a <= b)--> ', a <= b)"
      ],
      "metadata": {
        "id": "aPIglsPjPFc2"
      },
      "execution_count": null,
      "outputs": []
    },
    {
      "cell_type": "markdown",
      "source": [
        "**Logical Operators**"
      ],
      "metadata": {
        "id": "X4nLSdEFP4vB"
      }
    },
    {
      "cell_type": "code",
      "source": [
        "# logical AND\n",
        "print(True and True)\n",
        "print(True and False)\n",
        "\n",
        "# logical OR\n",
        "print(True or False)\n",
        "\n",
        "# logical NOT\n",
        "print(not True)"
      ],
      "metadata": {
        "id": "srxdLpQJQScw"
      },
      "execution_count": null,
      "outputs": []
    },
    {
      "cell_type": "markdown",
      "source": [
        "**Python if…else Statement**"
      ],
      "metadata": {
        "id": "N2xP0onVQduW"
      }
    },
    {
      "cell_type": "code",
      "source": [
        "number = 10\n",
        "\n",
        "if number > 0:\n",
        "    print('Positive number')\n",
        "\n",
        "else:\n",
        "    print('Negative number')\n",
        "\n",
        "print('This statement always executes')"
      ],
      "metadata": {
        "id": "Jn39DpzJRHgy"
      },
      "execution_count": null,
      "outputs": []
    },
    {
      "cell_type": "markdown",
      "source": [
        "**Python if…elif…else Statement**"
      ],
      "metadata": {
        "id": "7F99GZReRKLQ"
      }
    },
    {
      "cell_type": "code",
      "source": [
        "number = 0\n",
        "\n",
        "if number > 0:\n",
        "    print('Positive number')\n",
        "\n",
        "elif number <0:\n",
        "    print('Negative number')\n",
        "\n",
        "else:\n",
        "    print('Zero')\n",
        "\n",
        "print('This statement is always executed')"
      ],
      "metadata": {
        "id": "GHqE0kqqRNep"
      },
      "execution_count": null,
      "outputs": []
    },
    {
      "cell_type": "markdown",
      "source": [
        "**Python Nested if Statements**"
      ],
      "metadata": {
        "id": "nENeaAzORR0H"
      }
    },
    {
      "cell_type": "code",
      "source": [
        "number = 5\n",
        "\n",
        "# outer if statement\n",
        "if number >= 0:\n",
        "    # inner if statement\n",
        "    if number == 0:\n",
        "      print('Number is 0')\n",
        "\n",
        "    # inner else statement\n",
        "    else:\n",
        "        print('Number is positive')\n",
        "\n",
        "# outer else statement\n",
        "else:\n",
        "    print('Number is negative')"
      ],
      "metadata": {
        "id": "TSQUcrdlRUnq"
      },
      "execution_count": null,
      "outputs": []
    },
    {
      "cell_type": "markdown",
      "source": [
        "**Python for Loop**"
      ],
      "metadata": {
        "id": "V58XZIxjRYv_"
      }
    },
    {
      "cell_type": "code",
      "source": [
        "# iterate from i = 0 to i = 3\n",
        "for i in range(4):\n",
        "    print(i)\n",
        ""
      ],
      "metadata": {
        "id": "gB6UsaO4RxZ5",
        "colab": {
          "base_uri": "https://localhost:8080/"
        },
        "outputId": "54f99110-a201-4bc9-81a7-afe59f2448fd"
      },
      "execution_count": 5,
      "outputs": [
        {
          "output_type": "stream",
          "name": "stdout",
          "text": [
            "0\n",
            "1\n",
            "2\n",
            "3\n"
          ]
        }
      ]
    },
    {
      "cell_type": "code",
      "source": [
        "# Define a list of numbers\n",
        "numbers = [1, 2, 3, 4, 5]\n",
        "\n",
        "for num in numbers:\n",
        "    # Print each number multiplied by 2\n",
        "    print(num * 2)"
      ],
      "metadata": {
        "id": "JAgUXeCQR4B8"
      },
      "execution_count": null,
      "outputs": []
    },
    {
      "cell_type": "code",
      "source": [
        "languages = ['Swift', 'Python', 'Go']\n",
        "\n",
        "for i in languages:\n",
        "    print(i)"
      ],
      "metadata": {
        "id": "OdGX7BuzTKLI",
        "colab": {
          "base_uri": "https://localhost:8080/"
        },
        "outputId": "06c3a719-8ac1-4675-c87f-90558857c7ce"
      },
      "execution_count": 6,
      "outputs": [
        {
          "output_type": "stream",
          "name": "stdout",
          "text": [
            "Swift\n",
            "Python\n",
            "Go\n"
          ]
        }
      ]
    },
    {
      "cell_type": "code",
      "source": [
        "for i in range(5):\n",
        "    if i == 3:\n",
        "        break\n",
        "    print(i)"
      ],
      "metadata": {
        "id": "8BnNHT5oTOjM",
        "colab": {
          "base_uri": "https://localhost:8080/"
        },
        "outputId": "37d1aee8-971e-43a8-b5c9-86f6af7e0938"
      },
      "execution_count": 7,
      "outputs": [
        {
          "output_type": "stream",
          "name": "stdout",
          "text": [
            "0\n",
            "1\n",
            "2\n"
          ]
        }
      ]
    },
    {
      "cell_type": "code",
      "source": [
        "for i in range(5):\n",
        "    if i == 3:\n",
        "        continue\n",
        "    print(i)"
      ],
      "metadata": {
        "id": "W79cqfbWTWgu",
        "colab": {
          "base_uri": "https://localhost:8080/"
        },
        "outputId": "29280f7d-ea68-46da-a75e-ed5e5d31979e"
      },
      "execution_count": 8,
      "outputs": [
        {
          "output_type": "stream",
          "name": "stdout",
          "text": [
            "0\n",
            "1\n",
            "2\n",
            "4\n"
          ]
        }
      ]
    },
    {
      "cell_type": "markdown",
      "source": [
        "**Python Nested for Loop**"
      ],
      "metadata": {
        "id": "N20AEfyKeuCv"
      }
    },
    {
      "cell_type": "code",
      "source": [
        "# Define a list of fruits\n",
        "fruits = [\"apple\", \"banana\", \"cherry\"]\n",
        "\n",
        "# Define a list of colors\n",
        "colors = [\"red\", \"yellow\", \"black\"]\n",
        "\n",
        "# Nested loop to combine each fruit with each color\n",
        "for fruit in fruits:\n",
        "    for color in colors:\n",
        "        print(fruit, color)"
      ],
      "metadata": {
        "id": "5sflwW1HetkA",
        "colab": {
          "base_uri": "https://localhost:8080/"
        },
        "outputId": "c621103e-6b29-4330-c7af-47b199c32f0b"
      },
      "execution_count": 9,
      "outputs": [
        {
          "output_type": "stream",
          "name": "stdout",
          "text": [
            "apple red\n",
            "apple yellow\n",
            "apple black\n",
            "banana red\n",
            "banana yellow\n",
            "banana black\n",
            "cherry red\n",
            "cherry yellow\n",
            "cherry black\n"
          ]
        }
      ]
    },
    {
      "cell_type": "markdown",
      "source": [
        "**Python Mathematics**"
      ],
      "metadata": {
        "id": "LUWemH1YTbN3"
      }
    },
    {
      "cell_type": "code",
      "source": [
        "import math\n",
        "\n",
        "# Trigonometric functions\n",
        "print(\"\\nTrigonometric Functions:\")\n",
        "print(\"Sine of 30 degrees:\", math.sin(math.radians(30)))\n",
        "print(\"Cosine of 30 degrees:\", math.cos(math.radians(30)))\n",
        "print(\"Tangent of 30 degrees:\", math.tan(math.radians(30)))\n",
        "\n",
        "# Logarithmic and exponential functions\n",
        "print(\"\\nLogarithmic and Exponential Functions:\")\n",
        "print(\"Natural Logarithm (base e) of 2:\", math.log(2))\n",
        "print(\"Logarithm base 10 of 100:\", math.log10(100))\n",
        "print(\"Exponential of 2:\", math.exp(2))\n",
        "\n",
        "# Constants\n",
        "print(\"\\nConstants:\")\n",
        "print(\"Value of pi:\", math.pi)\n",
        "print(\"Value of e:\", math.e)"
      ],
      "metadata": {
        "id": "tFA2xoIDWQTM"
      },
      "execution_count": null,
      "outputs": []
    },
    {
      "cell_type": "markdown",
      "source": [
        "**Python List**"
      ],
      "metadata": {
        "id": "EEpiF5F1WSew"
      }
    },
    {
      "cell_type": "code",
      "source": [
        "colors = ['Red', 'Black', 'Green']\n",
        "\n",
        "# Print the original list\n",
        "print(\"Original list of colors:\", colors)"
      ],
      "metadata": {
        "id": "pxdTFYPFXQQi",
        "colab": {
          "base_uri": "https://localhost:8080/"
        },
        "outputId": "39466162-6847-457a-9002-05ba5ece57e2"
      },
      "execution_count": 10,
      "outputs": [
        {
          "output_type": "stream",
          "name": "stdout",
          "text": [
            "Original list of colors: ['Red', 'Black', 'Green']\n"
          ]
        }
      ]
    },
    {
      "cell_type": "code",
      "source": [
        "# Accessing elements in the list\n",
        "print(\"First color:\", colors[0])\n",
        "print(\"Last color:\", colors[2])\n",
        "print(\"Last color:\", colors[-1])\n",
        "print(\"Sliced colors:\", colors[-2:])"
      ],
      "metadata": {
        "id": "B2hue9VCXVZl",
        "colab": {
          "base_uri": "https://localhost:8080/"
        },
        "outputId": "b3dedd4a-286c-4fe3-8aa8-df3610fe02fa"
      },
      "execution_count": 14,
      "outputs": [
        {
          "output_type": "stream",
          "name": "stdout",
          "text": [
            "First color: Red\n",
            "Last color: Green\n",
            "Last color: Green\n",
            "Sliced colors: ['Black', 'Green']\n"
          ]
        }
      ]
    },
    {
      "cell_type": "code",
      "source": [
        "colors[0] = 'Blue'\n",
        "print(\"Modified list after changing the first color to Blue:\", colors)"
      ],
      "metadata": {
        "id": "_z5FV9gHXcB7",
        "colab": {
          "base_uri": "https://localhost:8080/"
        },
        "outputId": "088cac2d-4e6f-4a0a-f8bc-64c33bf9843a"
      },
      "execution_count": 15,
      "outputs": [
        {
          "output_type": "stream",
          "name": "stdout",
          "text": [
            "Modified list after changing the first color to Blue: ['Blue', 'Black', 'Green']\n"
          ]
        }
      ]
    },
    {
      "cell_type": "code",
      "source": [
        "colors.append('Yellow')\n",
        "print(\"List after appending Yellow:\", colors)"
      ],
      "metadata": {
        "id": "iNECTVWAXytH",
        "colab": {
          "base_uri": "https://localhost:8080/"
        },
        "outputId": "cb70a381-8dcd-4b7b-b95c-dd64b292b1f9"
      },
      "execution_count": 16,
      "outputs": [
        {
          "output_type": "stream",
          "name": "stdout",
          "text": [
            "List after appending Yellow: ['Blue', 'Black', 'Green', 'Yellow']\n"
          ]
        }
      ]
    },
    {
      "cell_type": "code",
      "source": [
        "colors.insert(1, 'White')\n",
        "print(\"List after inserting White at index 1:\", colors)"
      ],
      "metadata": {
        "id": "RxS6zqfQX18W",
        "colab": {
          "base_uri": "https://localhost:8080/"
        },
        "outputId": "287eb6cc-05e4-4752-d893-b97b0d59eda0"
      },
      "execution_count": 17,
      "outputs": [
        {
          "output_type": "stream",
          "name": "stdout",
          "text": [
            "List after inserting White at index 1: ['Blue', 'White', 'Black', 'Green', 'Yellow']\n"
          ]
        }
      ]
    },
    {
      "cell_type": "code",
      "source": [
        "colors.remove(colors[0])\n",
        "print(\"List after removing Black:\", colors)"
      ],
      "metadata": {
        "id": "nWLSIu2wX5za",
        "colab": {
          "base_uri": "https://localhost:8080/"
        },
        "outputId": "595fd0ed-d9c8-4b27-c06b-d106873b8e3e"
      },
      "execution_count": 23,
      "outputs": [
        {
          "output_type": "stream",
          "name": "stdout",
          "text": [
            "List after removing Black: ['Green', 'Yellow']\n"
          ]
        }
      ]
    },
    {
      "cell_type": "code",
      "source": [
        "# List operations\n",
        "print(\"Number of colors in the list:\", len(colors))\n",
        "print(\"Reversed list of colors:\", list(reversed(colors)))"
      ],
      "metadata": {
        "id": "d_vK3Y0BX9mt"
      },
      "execution_count": null,
      "outputs": []
    },
    {
      "cell_type": "code",
      "source": [
        "my_list = [2, 1, 4, 5, 3]\n",
        "print(\"Sorted list of colors:\", sorted(my_list))"
      ],
      "metadata": {
        "id": "Av7JT-OjYGYP"
      },
      "execution_count": null,
      "outputs": []
    },
    {
      "cell_type": "code",
      "source": [
        "# Checking if an element is in the list\n",
        "print(\"Is 'Green' present in the list?\", 'Green' in colors)"
      ],
      "metadata": {
        "id": "2CiPe_U6YFdX"
      },
      "execution_count": null,
      "outputs": []
    },
    {
      "cell_type": "code",
      "source": [
        "# Iterating over the list\n",
        "print(\"Iterating over the list of colors:\")\n",
        "for color in colors:\n",
        "    print(color)"
      ],
      "metadata": {
        "id": "fixFU_rHYXlq"
      },
      "execution_count": null,
      "outputs": []
    },
    {
      "cell_type": "markdown",
      "source": [
        "**Python Tuple**"
      ],
      "metadata": {
        "id": "FHo1hYzBY8vb"
      }
    },
    {
      "cell_type": "code",
      "source": [
        "# Define a tuple\n",
        "my_tuple = (1, 2, 3, 'a', 'b', 'c')\n",
        "\n",
        "# Accessing elements of a tuple\n",
        "print(\"First element:\", my_tuple[0])\n",
        "print(\"Last element:\", my_tuple[-1])\n",
        "print(\"Slicing tuple:\", my_tuple[2:5])"
      ],
      "metadata": {
        "id": "WLgQB5GFY18s",
        "colab": {
          "base_uri": "https://localhost:8080/"
        },
        "outputId": "68354325-aa08-4e1c-dee3-2028fe78f3fe"
      },
      "execution_count": 24,
      "outputs": [
        {
          "output_type": "stream",
          "name": "stdout",
          "text": [
            "First element: 1\n",
            "Last element: c\n",
            "Slicing tuple: (3, 'a', 'b')\n"
          ]
        }
      ]
    },
    {
      "cell_type": "code",
      "source": [
        "# Length of a tuple\n",
        "print(\"Length of tuple:\", len(my_tuple))"
      ],
      "metadata": {
        "id": "QRQA3gaiZD2v"
      },
      "execution_count": null,
      "outputs": []
    },
    {
      "cell_type": "code",
      "source": [
        "# Check if an item exists in a tuple\n",
        "print(\"Is 'a' in the tuple?\", 'a' in my_tuple)"
      ],
      "metadata": {
        "id": "_JK0UIM7ZJMO"
      },
      "execution_count": null,
      "outputs": []
    },
    {
      "cell_type": "code",
      "source": [
        "# Iterate through a tuple\n",
        "print(\"Iterating through the tuple:\")\n",
        "for item in my_tuple:\n",
        "    print(item)"
      ],
      "metadata": {
        "id": "jNJA65W3ZM-V"
      },
      "execution_count": null,
      "outputs": []
    },
    {
      "cell_type": "markdown",
      "source": [
        "**List Tuple Conversion**"
      ],
      "metadata": {
        "id": "G9T-16kfZSPS"
      }
    },
    {
      "cell_type": "code",
      "source": [
        "fruits = ('apple','banana','orange')"
      ],
      "metadata": {
        "id": "BnRU957TZg4_"
      },
      "execution_count": null,
      "outputs": []
    },
    {
      "cell_type": "code",
      "source": [
        "# Convert a tuple to a list\n",
        "tuple_as_list = list(fruits)\n",
        "print(\"Tuple converted to list:\", tuple_as_list)"
      ],
      "metadata": {
        "id": "XEYi2wx3ZRph",
        "colab": {
          "base_uri": "https://localhost:8080/"
        },
        "outputId": "08ce0361-28f9-4875-c36a-c05611b33ecb"
      },
      "execution_count": 25,
      "outputs": [
        {
          "output_type": "stream",
          "name": "stdout",
          "text": [
            "Tuple converted to list: ['apple', 'banana', 'cherry']\n"
          ]
        }
      ]
    },
    {
      "cell_type": "code",
      "source": [
        "# Convert a list to a tuple\n",
        "list_as_tuple = tuple(tuple_as_list)\n",
        "print(\"List converted to tuple:\", list_as_tuple)"
      ],
      "metadata": {
        "id": "wCxXiz1bZetx",
        "colab": {
          "base_uri": "https://localhost:8080/"
        },
        "outputId": "3f75acc6-6024-4c3b-a9cb-4f108fa0f382"
      },
      "execution_count": 26,
      "outputs": [
        {
          "output_type": "stream",
          "name": "stdout",
          "text": [
            "List converted to tuple: ('apple', 'banana', 'cherry')\n"
          ]
        }
      ]
    },
    {
      "cell_type": "markdown",
      "source": [
        "**Python String**"
      ],
      "metadata": {
        "id": "j215hbO5Z3Dm"
      }
    },
    {
      "cell_type": "code",
      "source": [
        "# join two string\n",
        "greet = \"Hello \"\n",
        "name = \"World\"\n",
        "\n",
        "# using + operator\n",
        "result = greet + name\n",
        "print(result)"
      ],
      "metadata": {
        "id": "qC4M3aEcZ5mu",
        "colab": {
          "base_uri": "https://localhost:8080/"
        },
        "outputId": "7799cc0b-3f14-485c-c1ed-bafe4e8d7fdb"
      },
      "execution_count": 27,
      "outputs": [
        {
          "output_type": "stream",
          "name": "stdout",
          "text": [
            "Hello World\n"
          ]
        }
      ]
    },
    {
      "cell_type": "code",
      "source": [
        "greet = 'Hello'\n",
        "\n",
        "# iterating through greet string\n",
        "for letter in greet:\n",
        "    print(letter)"
      ],
      "metadata": {
        "id": "RHBnHrZvaDom"
      },
      "execution_count": null,
      "outputs": []
    },
    {
      "cell_type": "code",
      "source": [
        "greet = 'Hello'\n",
        "\n",
        "# count length of greet string\n",
        "print(len(greet))"
      ],
      "metadata": {
        "id": "gdNALPF7aIuG"
      },
      "execution_count": null,
      "outputs": []
    },
    {
      "cell_type": "markdown",
      "source": [
        "**Python Set**"
      ],
      "metadata": {
        "id": "2mLAa59PaMlz"
      }
    },
    {
      "cell_type": "code",
      "source": [
        "# Creating a set\n",
        "toys = {'car', 'plane', 'animal'}\n",
        "print(\"Initial set:\", toys)"
      ],
      "metadata": {
        "id": "crHBs9lmaiSN"
      },
      "execution_count": null,
      "outputs": []
    },
    {
      "cell_type": "code",
      "source": [
        "# Adding elements to a set\n",
        "toys.add('doll')\n",
        "print(\"After adding 'doll':\", toys)"
      ],
      "metadata": {
        "id": "WOzYTHTHalRg"
      },
      "execution_count": null,
      "outputs": []
    },
    {
      "cell_type": "code",
      "source": [
        "# Removing elements from a set\n",
        "toys.remove('animal')\n",
        "print(\"After removing 'plane':\", toys)"
      ],
      "metadata": {
        "id": "EMRYEqgbaoGb"
      },
      "execution_count": null,
      "outputs": []
    },
    {
      "cell_type": "code",
      "source": [
        "# Checking membership in a set\n",
        "print(\"Is 'car' in the set?\", 'car' in toys)\n",
        "print(\"Is 'ball' in the set?\", 'ball' in toys)"
      ],
      "metadata": {
        "id": "TMmaBwazbOUy"
      },
      "execution_count": null,
      "outputs": []
    },
    {
      "cell_type": "code",
      "source": [
        "# Set operations: union, intersection, difference\n",
        "other_toys = {'bat', 'train', 'doll'}\n",
        "print(\"Union:\", toys.union(other_toys))\n",
        "print(\"Intersection:\", toys.intersection(other_toys))\n",
        "print(\"Difference:\", toys.difference(other_toys))"
      ],
      "metadata": {
        "id": "Qoy6kva5bTI9"
      },
      "execution_count": null,
      "outputs": []
    },
    {
      "cell_type": "code",
      "source": [
        "# Length of a set\n",
        "print(\"Length of the set:\", len(toys))"
      ],
      "metadata": {
        "id": "hRXSpcdOblu1"
      },
      "execution_count": null,
      "outputs": []
    },
    {
      "cell_type": "code",
      "source": [
        "# Clearing a set\n",
        "toys.clear()\n",
        "print(\"Cleared set:\", toys)"
      ],
      "metadata": {
        "id": "M5sMV73Obp26"
      },
      "execution_count": null,
      "outputs": []
    },
    {
      "cell_type": "markdown",
      "source": [
        "**Python Dictionary**"
      ],
      "metadata": {
        "id": "sF6nWDCxcIxx"
      }
    },
    {
      "cell_type": "code",
      "source": [
        "# Creating an empty dictionary\n",
        "my_dict = {}\n",
        "\n",
        "# Adding key-value pairs to the dictionary\n",
        "my_dict['name'] = 'John'\n",
        "my_dict['age'] = 30\n",
        "my_dict['gender'] = 'male'"
      ],
      "metadata": {
        "id": "LlPMPQcOcIcS"
      },
      "execution_count": 28,
      "outputs": []
    },
    {
      "cell_type": "code",
      "source": [
        "# Printing the dictionary\n",
        "print(\"Dictionary:\", my_dict)"
      ],
      "metadata": {
        "id": "ybljrLfpcO6d",
        "colab": {
          "base_uri": "https://localhost:8080/"
        },
        "outputId": "6e92ad61-f49c-4789-9c64-852c54de3e41"
      },
      "execution_count": 29,
      "outputs": [
        {
          "output_type": "stream",
          "name": "stdout",
          "text": [
            "Dictionary: {'name': 'John', 'age': 30, 'gender': 'male'}\n"
          ]
        }
      ]
    },
    {
      "cell_type": "code",
      "source": [
        "# Accessing value using key\n",
        "print(\"Value for key 'name':\", my_dict['name'])"
      ],
      "metadata": {
        "id": "DBkbPHstcTjL",
        "colab": {
          "base_uri": "https://localhost:8080/"
        },
        "outputId": "19fd896e-fa63-41f5-e2d1-37ce8f8a0bc2"
      },
      "execution_count": 30,
      "outputs": [
        {
          "output_type": "stream",
          "name": "stdout",
          "text": [
            "Value for key 'name': John\n"
          ]
        }
      ]
    },
    {
      "cell_type": "code",
      "source": [
        "# Checking if a key exists\n",
        "if 'age' in my_dict:\n",
        "    print(\"'age' is present in the dictionary.\")\n",
        "else:\n",
        "    print(\"'age' is not present in the dictionary.\")"
      ],
      "metadata": {
        "id": "K0UTKor0cWSC"
      },
      "execution_count": null,
      "outputs": []
    },
    {
      "cell_type": "code",
      "source": [
        "# Removing a key-value pair\n",
        "removed_value = my_dict.pop('age')\n",
        "print(\"Removed value:\", removed_value)\n",
        "print(\"Dictionary after removing 'age':\", my_dict)"
      ],
      "metadata": {
        "id": "Vfz-92oCcZBx"
      },
      "execution_count": null,
      "outputs": []
    },
    {
      "cell_type": "code",
      "source": [
        "# Iterating through keys and values\n",
        "print(\"Keys:\")\n",
        "for key in my_dict:\n",
        "    print(key)"
      ],
      "metadata": {
        "id": "c8JxjB2oceM9",
        "colab": {
          "base_uri": "https://localhost:8080/"
        },
        "outputId": "7da6c049-e00e-4600-cbf7-59620475702b"
      },
      "execution_count": 31,
      "outputs": [
        {
          "output_type": "stream",
          "name": "stdout",
          "text": [
            "Keys:\n",
            "name\n",
            "age\n",
            "gender\n"
          ]
        }
      ]
    },
    {
      "cell_type": "code",
      "source": [
        "print(\"Values:\")\n",
        "for value in my_dict.values():\n",
        "    print(value)"
      ],
      "metadata": {
        "id": "_pCDb_5-ciJZ"
      },
      "execution_count": null,
      "outputs": []
    },
    {
      "cell_type": "code",
      "source": [
        "# Checking the length of the dictionary\n",
        "print(\"Length of dictionary:\", len(my_dict))"
      ],
      "metadata": {
        "id": "uEcBI7FKckiR",
        "colab": {
          "base_uri": "https://localhost:8080/"
        },
        "outputId": "1a56efc4-4c44-4199-ae9d-3935133d76a1"
      },
      "execution_count": 32,
      "outputs": [
        {
          "output_type": "stream",
          "name": "stdout",
          "text": [
            "Length of dictionary: 3\n"
          ]
        }
      ]
    },
    {
      "cell_type": "code",
      "source": [
        "# Clearing the dictionary\n",
        "my_dict.clear()\n",
        "print(\"Dictionary after clearing:\", my_dict)"
      ],
      "metadata": {
        "id": "CSnDS1eOcl29"
      },
      "execution_count": null,
      "outputs": []
    },
    {
      "cell_type": "markdown",
      "source": [
        "**Python Function**"
      ],
      "metadata": {
        "id": "WiwsqCvouF2C"
      }
    },
    {
      "cell_type": "code",
      "source": [
        "# function with two arguments\n",
        "def add_numbers(num1, num2):\n",
        "    sum = num1 + num2\n",
        "    print(\"Sum: \", sum)\n",
        "\n",
        "# function call\n",
        "add_numbers(5, 4)"
      ],
      "metadata": {
        "id": "Gw9DoWFluFjo"
      },
      "execution_count": null,
      "outputs": []
    }
  ]
}